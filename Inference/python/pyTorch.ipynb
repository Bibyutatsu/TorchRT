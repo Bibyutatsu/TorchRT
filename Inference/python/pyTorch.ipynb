{
 "cells": [
  {
   "cell_type": "code",
   "execution_count": null,
   "metadata": {},
   "outputs": [],
   "source": [
    "import sys\n",
    "import os\n",
    "sys.path.insert(0, './../../Research')\n",
    "\n",
    "from PIL import Image\n",
    "import numpy as np\n",
    "from networks import FashionCNN\n",
    "from utils import get_classes\n",
    "from tqdm.notebook import tqdm\n",
    "\n",
    "import torch\n",
    "import torch.nn.functional as F\n",
    "from torch.utils.data import DataLoader, Dataset\n",
    "from time import time\n",
    "\n",
    "import torchvision.transforms as transforms"
   ]
  },
  {
   "cell_type": "markdown",
   "metadata": {},
   "source": [
    "## Inference Dataset"
   ]
  },
  {
   "cell_type": "code",
   "execution_count": null,
   "metadata": {},
   "outputs": [],
   "source": [
    "class Inference(Dataset):\n",
    "    \"\"\"Pytorch Dataset for Inference dataset\"\"\"\n",
    "    \n",
    "    def __init__(self, holdout_folder):\n",
    "        \"\"\"Initialising the Dataset\n",
    "        \n",
    "        Args:\n",
    "            holdout_folder: Folder with images for inferencing\n",
    "        \"\"\"\n",
    "        \n",
    "        self.images = [os.path.join(holdout_folder, img_file) for img_file in os.listdir(holdout_folder)]\n",
    "        self.transforms = transforms.ToTensor()\n",
    "        self.classes = get_classes()\n",
    "    \n",
    "    def __len__(self):\n",
    "        \"\"\"Number of images\"\"\"\n",
    "        \n",
    "        return len(self.images)\n",
    "    \n",
    "    def __getitem__(self, idx):\n",
    "        \"\"\"Get the item corresponding to the index\n",
    "        \n",
    "        Args:\n",
    "            idx: Index of batch\n",
    "        \"\"\"\n",
    "        \n",
    "        img_name = self.images[idx]\n",
    "        img_PIL = Image.open(img_name)\n",
    "        img_label = torch.tensor(int(os.path.basename(img_name).split('_')[0]))\n",
    "        img = transforms.ToTensor()(img_PIL)\n",
    "        \n",
    "        return img, img_label"
   ]
  },
  {
   "cell_type": "code",
   "execution_count": null,
   "metadata": {},
   "outputs": [],
   "source": [
    "infer_dataset = Inference(holdout_folder = \"./../data/fashionmnist/images/\")\n",
    "infer_loader = DataLoader(infer_dataset, batch_size=1, num_workers=4, shuffle=False)\n",
    "\n",
    "# class labels\n",
    "classes = get_classes()"
   ]
  },
  {
   "cell_type": "markdown",
   "metadata": {},
   "source": [
    "## Model loading"
   ]
  },
  {
   "cell_type": "code",
   "execution_count": null,
   "metadata": {},
   "outputs": [],
   "source": [
    "# Pytorch Model\n",
    "model = FashionCNN()\n",
    "model.load_state_dict(torch.load('./../../Models/fashionNet.pth'));\n",
    "model.eval();"
   ]
  },
  {
   "cell_type": "markdown",
   "metadata": {},
   "source": [
    "## Inference"
   ]
  },
  {
   "cell_type": "code",
   "execution_count": null,
   "metadata": {},
   "outputs": [],
   "source": [
    "correct_predictions = 0\n",
    "total_predictions = 0"
   ]
  },
  {
   "cell_type": "code",
   "execution_count": null,
   "metadata": {},
   "outputs": [],
   "source": [
    "time_per_image = []\n",
    "time_start = time()\n",
    "\n",
    "# Inferencing Images one by one\n",
    "with torch.no_grad():\n",
    "    for data, label in tqdm(infer_loader):\n",
    "        time_img_st = time()\n",
    "        outs = model(data)\n",
    "        preds = torch.argmax(outs, dim=1)\n",
    "        for pred, label in zip(preds, label):\n",
    "            pred_label = classes[pred]\n",
    "            img_label = classes[label]\n",
    "            total_predictions += 1\n",
    "            if pred_label == img_label:\n",
    "                correct_predictions += 1\n",
    "        time_img_en = time()\n",
    "        time_per_image.append(time_img_en - time_img_st)\n",
    "time_end = time()"
   ]
  },
  {
   "cell_type": "markdown",
   "metadata": {},
   "source": [
    "## Printing stats"
   ]
  },
  {
   "cell_type": "code",
   "execution_count": null,
   "metadata": {},
   "outputs": [],
   "source": [
    "print(\"Accuracy         = \", correct_predictions*100/total_predictions)\n",
    "print(\"Total time (sec) = \", time_end - time_start)\n",
    "print(\"Latency          = \", np.mean(time_per_image))"
   ]
  },
  {
   "cell_type": "markdown",
   "metadata": {},
   "source": [
    "## Stats from my Run"
   ]
  },
  {
   "cell_type": "code",
   "execution_count": null,
   "metadata": {},
   "outputs": [],
   "source": [
    "# FashionCNN\n",
    "\n",
    "# Accuracy         =  92.33844103930713\n",
    "# Total time (sec) =  10.233047008514404\n",
    "# Latency          =  0.001875086834556178"
   ]
  },
  {
   "cell_type": "code",
   "execution_count": null,
   "metadata": {},
   "outputs": [],
   "source": [
    "# torNet\n",
    "\n",
    "# Accuracy         =  91.87208527648235\n",
    "# Total time (sec) =  117.98538613319397\n",
    "# Latency          =  0.03715702940987238"
   ]
  },
  {
   "cell_type": "code",
   "execution_count": null,
   "metadata": {},
   "outputs": [],
   "source": [
    "# efficientNet\n",
    "\n",
    "# Accuracy         =  89.44037308461026\n",
    "# Total time (sec) =  166.0295968055725\n",
    "# Latency          =  0.05312728746822085"
   ]
  }
 ],
 "metadata": {
  "kernelspec": {
   "display_name": "Python 3",
   "language": "python",
   "name": "python3"
  },
  "language_info": {
   "codemirror_mode": {
    "name": "ipython",
    "version": 3
   },
   "file_extension": ".py",
   "mimetype": "text/x-python",
   "name": "python",
   "nbconvert_exporter": "python",
   "pygments_lexer": "ipython3",
   "version": "3.7.3"
  }
 },
 "nbformat": 4,
 "nbformat_minor": 4
}
